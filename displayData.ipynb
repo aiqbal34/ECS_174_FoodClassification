{
 "cells": [
  {
   "cell_type": "code",
   "execution_count": null,
   "metadata": {},
   "outputs": [],
   "source": [
    "from collections import defaultdict\n",
    "import matplotlib.pyplot as plt\n",
    "def load_data(file_path, base_dir, max_per_class=None):\n",
    "    image_paths = defaultdict(list)\n",
    "    labels = []\n",
    "    \n",
    "    with open(file_path, 'r') as f:\n",
    "        for line in f:\n",
    "            parts = line.split('/')\n",
    "            class_name = parts[0].strip()\n",
    "            img_path = f\"{base_dir}/{class_name}/{parts[1].strip()}\"\n",
    "            image_paths[class_name].append(img_path)\n",
    "    \n",
    "    # Restrict the number of images per class\n",
    "    final_image_paths = []\n",
    "    final_labels = []\n",
    "    for class_name, paths in image_paths.items():\n",
    "        if max_per_class:\n",
    "            paths = paths[:max_per_class]  # Limit to max_per_class images\n",
    "        final_image_paths.extend(paths)\n",
    "        final_labels.extend([class_name] * len(paths))\n",
    "    \n",
    "    return final_image_paths, final_labels\n",
    "\n",
    "train_image_paths, train_labels = load_data(\n",
    "    '/Users/aariziqbal/Desktop/Homework/ECS_174/project/ECS_174_FoodClassification/food-101/meta/train.txt',\n",
    "    '/Users/aariziqbal/Desktop/Homework/ECS_174/project/ECS_174_FoodClassification/food-101/images',\n",
    "    max_per_class=130  # Take at most 50 images per class\n",
    ")\n",
    "test_image_paths, test_labels = load_data(\n",
    "    '/Users/aariziqbal/Desktop/Homework/ECS_174/project/ECS_174_FoodClassification/food-101/meta/test.txt',\n",
    "    '/Users/aariziqbal/Desktop/Homework/ECS_174/project/ECS_174_FoodClassification/food-101/images',\n",
    "    max_per_class=40  # Take at most 20 images per class\n",
    ")\n",
    "\n",
    "\n",
    "\n",
    "# Show a few images\n",
    "\n"
   ]
  },
  {
   "cell_type": "code",
   "execution_count": null,
   "metadata": {},
   "outputs": [],
   "source": [
    "from PIL import Image\n",
    "import matplotlib.pyplot as plt\n",
    "\n",
    "import random\n",
    "from PIL import Image\n",
    "import matplotlib.pyplot as plt\n",
    "from collections import defaultdict\n",
    "\n",
    "def sample_random_images(image_paths, labels, num_classes=9):\n",
    "    \"\"\"\n",
    "    Randomly sample one image from each class and display them.\n",
    "\n",
    "    :param image_paths: List of image file paths\n",
    "    :param labels: List of labels corresponding to the images\n",
    "    :param num_classes: Number of classes to sample and display\n",
    "    \"\"\"\n",
    "    # Group image paths by their class\n",
    "    class_to_images = defaultdict(list)\n",
    "    for img_path, label in zip(image_paths, labels):\n",
    "        class_to_images[label].append(img_path)\n",
    "\n",
    "    # Randomly sample a class and an image from that class\n",
    "    sampled_classes = random.sample(list(class_to_images.keys()), min(num_classes, len(class_to_images)))\n",
    "    sampled_images = [(random.choice(class_to_images[cls]), cls) for cls in sampled_classes]\n",
    "\n",
    "    # Display the sampled images\n",
    "    plt.figure(figsize=(10, 10))\n",
    "    for i, (img_path, cls) in enumerate(sampled_images):\n",
    "        img = Image.open(str(img_path + '.jpg'))\n",
    "        plt.subplot(3, 3, i + 1)\n",
    "        plt.imshow(img)\n",
    "        plt.title(cls)\n",
    "        plt.axis('off')\n",
    "    plt.tight_layout()\n",
    "    plt.show()\n",
    "\n",
    "# Sample and display random images from each class in training data\n",
    "sample_random_images(train_image_paths, train_labels, num_classes=9)\n",
    "\n",
    "\n",
    "\n"
   ]
  },
  {
   "cell_type": "markdown",
   "metadata": {},
   "source": [
    "There are 101 classes "
   ]
  },
  {
   "cell_type": "code",
   "execution_count": null,
   "metadata": {},
   "outputs": [],
   "source": []
  }
 ],
 "metadata": {
  "kernelspec": {
   "display_name": "food",
   "language": "python",
   "name": "python3"
  },
  "language_info": {
   "codemirror_mode": {
    "name": "ipython",
    "version": 3
   },
   "file_extension": ".py",
   "mimetype": "text/x-python",
   "name": "python",
   "nbconvert_exporter": "python",
   "pygments_lexer": "ipython3",
   "version": "3.11.6"
  }
 },
 "nbformat": 4,
 "nbformat_minor": 2
}
