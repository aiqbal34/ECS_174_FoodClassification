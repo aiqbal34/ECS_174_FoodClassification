{
  "cells": [
    {
      "cell_type": "code",
      "execution_count": 1,
      "metadata": {
        "id": "z1Ami_n-eahr"
      },
      "outputs": [],
      "source": [
        "!pip install kaggle --upgrade --quiet\n",
        "\n",
        "import os\n",
        "import random\n",
        "import torch\n",
        "import torch.nn as nn\n",
        "import torch.optim as optim\n",
        "from torch.utils.data import DataLoader, Dataset\n",
        "from torchvision import models, transforms\n",
        "from PIL import Image\n",
        "import matplotlib.pyplot as plt\n",
        "%matplotlib inline\n",
        "\n",
        "import numpy as np\n"
      ]
    },
    {
      "cell_type": "code",
      "execution_count": 2,
      "metadata": {
        "colab": {
          "base_uri": "https://localhost:8080/"
        },
        "id": "hIwwcSAfomPl",
        "outputId": "7b92b751-514c-4a0c-d94b-ef7fc9a9d76f"
      },
      "outputs": [
        {
          "output_type": "stream",
          "name": "stdout",
          "text": [
            "Drive already mounted at /content/drive; to attempt to forcibly remount, call drive.mount(\"/content/drive\", force_remount=True).\n"
          ]
        }
      ],
      "source": [
        "from google.colab import drive\n",
        "drive.mount('/content/drive')\n"
      ]
    },
    {
      "cell_type": "code",
      "execution_count": 3,
      "metadata": {
        "colab": {
          "base_uri": "https://localhost:8080/"
        },
        "id": "pUZJZaNepn3M",
        "outputId": "721ab722-cff4-4f13-c715-cd09f666f392"
      },
      "outputs": [
        {
          "output_type": "stream",
          "name": "stdout",
          "text": [
            "Dataset URL: https://www.kaggle.com/datasets/dansbecker/food-101\n",
            "License(s): other\n",
            "food-101.zip: Skipping, found more recently modified local copy (use --force to force download)\n"
          ]
        }
      ],
      "source": [
        "!kaggle datasets download -d \"dansbecker/food-101\" -p \"/content/drive/MyDrive/KaggleDatasets/food-101\""
      ]
    },
    {
      "cell_type": "code",
      "execution_count": null,
      "metadata": {
        "id": "nBfI-JLQRu-J"
      },
      "outputs": [],
      "source": [
        "!unzip \"/content/drive/MyDrive/KaggleDatasets/food-101/food-101.zip\""
      ]
    },
    {
      "cell_type": "code",
      "source": [
        "import random\n",
        "\n",
        "class Food101Dataset(Dataset):\n",
        "    def __init__(self, data_dir, split, transform=None, max_images=None):\n",
        "\n",
        "        self.data_dir = data_dir\n",
        "        self.img_dir = os.path.join(data_dir, \"images\")\n",
        "        self.transform = transform\n",
        "\n",
        "        #Load the split file(either gonna be train or test)\n",
        "        split_file = os.path.join(data_dir, f\"meta/{split}.txt\")\n",
        "        with open(split_file, \"r\") as file:\n",
        "            self.img_paths = file.read().splitlines()\n",
        "\n",
        "        #Limit dataset (10k instead of 100k)\n",
        "        if max_images is not None:\n",
        "            self.img_paths = random.sample(self.img_paths, min(max_images, len(self.img_paths)))\n",
        "\n",
        "        #Load class names\n",
        "        class_file = os.path.join(data_dir, \"meta/classes.txt\")\n",
        "        with open(class_file, \"r\") as file:\n",
        "            self.classes = file.read().splitlines()\n",
        "\n",
        "        #Map class names to numeric labels\n",
        "        self.class_to_index = {}\n",
        "        for index, cls_name in enumerate(self.classes):\n",
        "            self.class_to_index[cls_name] = index\n",
        "\n",
        "    def __len__(self):\n",
        "        return len(self.img_paths)\n",
        "\n",
        "    def __getitem__(self, index):\n",
        "        rel_path = self.img_paths[index]\n",
        "        class_name = os.path.dirname(rel_path)\n",
        "        label = self.class_to_index[class_name]\n",
        "\n",
        "        img_path = os.path.join(self.img_dir, rel_path + \".jpg\")\n",
        "        img = Image.open(img_path).convert(\"RGB\")\n",
        "\n",
        "        if self.transform:\n",
        "            img = self.transform(img)\n",
        "\n",
        "        return img, label\n"
      ],
      "metadata": {
        "id": "pAH0MjHauqQ9"
      },
      "execution_count": 40,
      "outputs": []
    },
    {
      "cell_type": "code",
      "source": [
        "# Data augmentations for training\n",
        "train_transforms = transforms.Compose([\n",
        "    transforms.Resize((256, 256)),\n",
        "    transforms.RandomCrop((224, 224)),\n",
        "    transforms.RandomHorizontalFlip(),\n",
        "    transforms.RandomRotation(30),\n",
        "    transforms.ToTensor(),\n",
        "    transforms.Normalize(mean=[0.485, 0.456, 0.406],\n",
        "                         std=[0.229, 0.224, 0.225])\n",
        "])\n",
        "\n",
        "# For test/validation, only resizing and normalization\n",
        "test_transforms = transforms.Compose([\n",
        "    transforms.Resize((224, 224)),\n",
        "    transforms.ToTensor(),\n",
        "    transforms.Normalize(mean=[0.485, 0.456, 0.406],\n",
        "                         std=[0.229, 0.224, 0.225])\n",
        "])\n",
        "\n",
        "data_dir = \"/content/food-101/food-101\"\n",
        "train_dataset = Food101Dataset(data_dir=\"/content/food-101/food-101\", split=\"train\", transform=train_transforms, max_images=8000)\n",
        "test_dataset = Food101Dataset(data_dir=\"/content/food-101/food-101\", split=\"test\", transform=test_transforms, max_images=2000)\n",
        "\n",
        "batch_size = 32\n",
        "train_loader = DataLoader(train_dataset, batch_size=batch_size, shuffle=True, num_workers=4, pin_memory=True)\n",
        "test_loader = DataLoader(test_dataset, batch_size=batch_size, shuffle=False, num_workers=4, pin_memory=True)\n",
        "\n",
        "num_classes = len(train_dataset.classes)\n",
        "print(\"Number of classes:\", num_classes)\n",
        "print(\"Train samples:\", len(train_dataset))\n",
        "print(\"Test samples:\", len(test_dataset))\n"
      ],
      "metadata": {
        "colab": {
          "base_uri": "https://localhost:8080/"
        },
        "id": "5IyG5IAyur1i",
        "outputId": "509faee1-2ffe-4807-fcf5-473b62e0297b"
      },
      "execution_count": 41,
      "outputs": [
        {
          "output_type": "stream",
          "name": "stdout",
          "text": [
            "Number of classes: 101\n",
            "Train samples: 8000\n",
            "Test samples: 2000\n"
          ]
        }
      ]
    },
    {
      "cell_type": "code",
      "source": [
        "device = torch.device(\"cuda\" if torch.cuda.is_available() else \"cpu\")\n",
        "print(\"Using device:\", device)\n",
        "\n",
        "#load up resnet\n",
        "model = models.resnet50(pretrained=True)\n",
        "\n",
        "# freeze base model layers, keeps pre-trained features from imagenet\n",
        "for param in model.parameters():\n",
        "    param.requires_grad = False\n",
        "\n",
        "#replace the final layer for Food101 classes instead of the 1000 in imagenet\n",
        "model.fc = nn.Linear(model.fc.in_features, num_classes)\n",
        "\n",
        "model = model.to(device)\n"
      ],
      "metadata": {
        "colab": {
          "base_uri": "https://localhost:8080/"
        },
        "id": "XxWU3506us8O",
        "outputId": "a817af54-df22-4727-9820-a37d4d741d6e"
      },
      "execution_count": 42,
      "outputs": [
        {
          "output_type": "stream",
          "name": "stdout",
          "text": [
            "Using device: cuda\n"
          ]
        }
      ]
    },
    {
      "cell_type": "code",
      "source": [
        "from tqdm import tqdm  # for the loadingbar\n",
        "\n",
        "def train_one_epoch(model, loader, criterion, optimizer, epoch, total_epochs):\n",
        "    model.train()\n",
        "    running_loss = 0.0\n",
        "    correct = 0\n",
        "    total = 0\n",
        "\n",
        "    # tqdm progress bar\n",
        "    progress_bar = tqdm(enumerate(loader), total=len(loader), desc=f\"Epoch [{epoch}/{total_epochs}]\")\n",
        "\n",
        "    for batch_index, (images, labels) in progress_bar:\n",
        "        images, labels = images.to(device), labels.to(device)\n",
        "\n",
        "        #Forward pass\n",
        "        optimizer.zero_grad()\n",
        "        outputs = model(images)\n",
        "        loss = criterion(outputs, labels)\n",
        "\n",
        "        #Backward pass and optimization\n",
        "        loss.backward()\n",
        "        optimizer.step()\n",
        "\n",
        "        #Save info\n",
        "        running_loss += loss.item() * images.size(0)\n",
        "        _, predictions = outputs.max(1)\n",
        "        correct += prediction.eq(labels).sum().item()\n",
        "        total += labels.size(0)\n",
        "\n",
        "        progress_bar.set_postfix({\n",
        "            \"Batch Loss\": loss.item(),\n",
        "            \"Running Loss\": running_loss / total,\n",
        "            \"Accuracy\": 100.0 * correct / total\n",
        "        })\n",
        "\n",
        "    epoch_loss = running_loss / len(loader.dataset)\n",
        "    epoch_acc = correct / len(loader.dataset)\n",
        "    return epoch_loss, epoch_acc\n",
        "\n",
        "def evaluate(model, loader, criterion):\n",
        "    model.eval()  # Set model to evaluation mode, consistent behavior\n",
        "    running_loss =\n",
        "    correct = 0\n",
        "    total = 0\n",
        "\n",
        "    with torch.no_grad():  #No need to track gradients during evaluation\n",
        "        for images, labels in loader: # go through batches\n",
        "            images, labels = images.to(device), labels.to(device) # move to right device\n",
        "            outputs = model(images) # predict current batch\n",
        "            loss = criterion(outputs, labels) #calc loss\n",
        "\n",
        "            running_loss += loss.item() * images.size(0)\n",
        "            _, predictions = outputs.max(1)\n",
        "            correct += predictions.eq(labels).sum().item()\n",
        "            total += labels.size(0)\n",
        "\n",
        "    epoch_loss = running_loss / total\n",
        "    epoch_acc = correct / total\n",
        "    return epoch_loss, epoch_acc\n"
      ],
      "metadata": {
        "id": "6EI8nfncuv19"
      },
      "execution_count": 43,
      "outputs": []
    },
    {
      "cell_type": "code",
      "source": [
        "criterion = nn.CrossEntropyLoss()\n",
        "optimizer = optim.Adam(model.fc.parameters(), lr=1e-3)\n",
        "#Metrics\n",
        "train_losses, val_losses = [], []\n",
        "train_accuracies, val_accuracies = [], []\n",
        "\n",
        "# training loop\n",
        "num_epochs = 30\n",
        "for epoch in range(1, num_epochs + 1):\n",
        "    train_loss, train_acc = train_one_epoch(model, train_loader, criterion, optimizer, epoch, num_epochs)\n",
        "    val_loss, val_acc = evaluate(model, test_loader, criterion)\n",
        "\n",
        "    # Append metrics to the lists\n",
        "    train_losses.append(train_loss)\n",
        "    val_losses.append(val_loss)\n",
        "    train_accuracies.append(train_acc)\n",
        "    val_accuracies.append(val_acc)\n",
        "\n",
        "    print(f\"Epoch {epoch}/{num_epochs}:\")\n",
        "    print(f\"Train Loss: {train_loss:.4f}, Train Acc: {train_acc:.4f}\")\n",
        "    print(f\"Val Loss: {val_loss:.4f}, Val Acc: {val_acc:.4f}\")\n",
        "\n",
        "    # Save the best model checkpoint\n",
        "    if val_acc > best_acc:\n",
        "        best_acc = val_acc\n",
        "        torch.save({\n",
        "            'epoch': epoch,\n",
        "            'model_state_dict': model.state_dict(),\n",
        "            'optimizer_state_dict': optimizer.state_dict(),\n",
        "            'best_acc': best_acc\n",
        "        }, \"best_model_checkpoint.pth\")\n",
        "        print(\"Saved best model!\")\n",
        "\n",
        "# Plot the accumulated metrics\n"
      ],
      "metadata": {
        "colab": {
          "base_uri": "https://localhost:8080/"
        },
        "id": "cU1AGr6RuwjS",
        "outputId": "a88a2a00-c564-4673-f145-826c656f0036"
      },
      "execution_count": 44,
      "outputs": [
        {
          "metadata": {
            "tags": null
          },
          "name": "stderr",
          "output_type": "stream",
          "text": [
            "Epoch [1/30]: 100%|██████████| 250/250 [00:50<00:00,  4.91it/s, Batch Loss=2.84, Running Loss=3.87, Accuracy=17.1]\n"
          ]
        },
        {
          "metadata": {
            "tags": null
          },
          "name": "stdout",
          "output_type": "stream",
          "text": [
            "Epoch 1/30:\n",
            "Train Loss: 3.8710, Train Acc: 0.1713\n",
            "Val Loss: 3.0161, Val Acc: 0.3035\n"
          ]
        },
        {
          "metadata": {
            "tags": null
          },
          "name": "stderr",
          "output_type": "stream",
          "text": [
            "Epoch [2/30]: 100%|██████████| 250/250 [00:48<00:00,  5.12it/s, Batch Loss=2.58, Running Loss=2.77, Accuracy=34.6]\n"
          ]
        },
        {
          "metadata": {
            "tags": null
          },
          "name": "stdout",
          "output_type": "stream",
          "text": [
            "Epoch 2/30:\n",
            "Train Loss: 2.7678, Train Acc: 0.3463\n",
            "Val Loss: 2.6903, Val Acc: 0.3545\n"
          ]
        },
        {
          "metadata": {
            "tags": null
          },
          "name": "stderr",
          "output_type": "stream",
          "text": [
            "Epoch [3/30]: 100%|██████████| 250/250 [00:49<00:00,  5.06it/s, Batch Loss=2.46, Running Loss=2.41, Accuracy=42.1]\n"
          ]
        },
        {
          "metadata": {
            "tags": null
          },
          "name": "stdout",
          "output_type": "stream",
          "text": [
            "Epoch 3/30:\n",
            "Train Loss: 2.4077, Train Acc: 0.4211\n",
            "Val Loss: 2.5552, Val Acc: 0.3855\n"
          ]
        },
        {
          "metadata": {
            "tags": null
          },
          "name": "stderr",
          "output_type": "stream",
          "text": [
            "Epoch [4/30]: 100%|██████████| 250/250 [00:48<00:00,  5.10it/s, Batch Loss=2.49, Running Loss=2.24, Accuracy=44.8]\n"
          ]
        },
        {
          "metadata": {
            "tags": null
          },
          "name": "stdout",
          "output_type": "stream",
          "text": [
            "Epoch 4/30:\n",
            "Train Loss: 2.2408, Train Acc: 0.4477\n",
            "Val Loss: 2.3728, Val Acc: 0.4115\n"
          ]
        },
        {
          "metadata": {
            "tags": null
          },
          "name": "stderr",
          "output_type": "stream",
          "text": [
            "Epoch [5/30]: 100%|██████████| 250/250 [00:48<00:00,  5.12it/s, Batch Loss=2.53, Running Loss=2.14, Accuracy=46.6]\n"
          ]
        },
        {
          "metadata": {
            "tags": null
          },
          "name": "stdout",
          "output_type": "stream",
          "text": [
            "Epoch 5/30:\n",
            "Train Loss: 2.1418, Train Acc: 0.4664\n",
            "Val Loss: 2.4290, Val Acc: 0.4165\n"
          ]
        },
        {
          "metadata": {
            "tags": null
          },
          "name": "stderr",
          "output_type": "stream",
          "text": [
            "Epoch [6/30]: 100%|██████████| 250/250 [00:48<00:00,  5.12it/s, Batch Loss=2.01, Running Loss=2.06, Accuracy=48.8]\n"
          ]
        },
        {
          "metadata": {
            "tags": null
          },
          "name": "stdout",
          "output_type": "stream",
          "text": [
            "Epoch 6/30:\n",
            "Train Loss: 2.0567, Train Acc: 0.4881\n",
            "Val Loss: 2.4023, Val Acc: 0.4240\n"
          ]
        },
        {
          "metadata": {
            "tags": null
          },
          "name": "stderr",
          "output_type": "stream",
          "text": [
            "Epoch [7/30]: 100%|██████████| 250/250 [00:51<00:00,  4.88it/s, Batch Loss=1.81, Running Loss=1.95, Accuracy=49.8]\n"
          ]
        },
        {
          "metadata": {
            "tags": null
          },
          "name": "stdout",
          "output_type": "stream",
          "text": [
            "Epoch 7/30:\n",
            "Train Loss: 1.9541, Train Acc: 0.4984\n",
            "Val Loss: 2.3914, Val Acc: 0.4210\n"
          ]
        },
        {
          "metadata": {
            "tags": null
          },
          "name": "stderr",
          "output_type": "stream",
          "text": [
            "Epoch [8/30]: 100%|██████████| 250/250 [00:50<00:00,  4.95it/s, Batch Loss=2.33, Running Loss=1.91, Accuracy=51.2]\n"
          ]
        },
        {
          "metadata": {
            "tags": null
          },
          "name": "stdout",
          "output_type": "stream",
          "text": [
            "Epoch 8/30:\n",
            "Train Loss: 1.9112, Train Acc: 0.5122\n",
            "Val Loss: 2.3442, Val Acc: 0.4360\n"
          ]
        },
        {
          "metadata": {
            "tags": null
          },
          "name": "stderr",
          "output_type": "stream",
          "text": [
            "Epoch [9/30]: 100%|██████████| 250/250 [00:50<00:00,  4.94it/s, Batch Loss=2.03, Running Loss=1.88, Accuracy=52.4]\n"
          ]
        },
        {
          "metadata": {
            "tags": null
          },
          "name": "stdout",
          "output_type": "stream",
          "text": [
            "Epoch 9/30:\n",
            "Train Loss: 1.8762, Train Acc: 0.5235\n",
            "Val Loss: 2.3166, Val Acc: 0.4445\n"
          ]
        },
        {
          "metadata": {
            "tags": null
          },
          "name": "stderr",
          "output_type": "stream",
          "text": [
            "Epoch [10/30]: 100%|██████████| 250/250 [00:52<00:00,  4.78it/s, Batch Loss=2.29, Running Loss=1.83, Accuracy=52.7]\n"
          ]
        },
        {
          "metadata": {
            "tags": null
          },
          "name": "stdout",
          "output_type": "stream",
          "text": [
            "Epoch 10/30:\n",
            "Train Loss: 1.8349, Train Acc: 0.5268\n",
            "Val Loss: 2.4398, Val Acc: 0.4255\n"
          ]
        },
        {
          "metadata": {
            "tags": null
          },
          "name": "stderr",
          "output_type": "stream",
          "text": [
            "Epoch [11/30]: 100%|██████████| 250/250 [00:49<00:00,  5.04it/s, Batch Loss=2.25, Running Loss=1.78, Accuracy=54]\n"
          ]
        },
        {
          "metadata": {
            "tags": null
          },
          "name": "stdout",
          "output_type": "stream",
          "text": [
            "Epoch 11/30:\n",
            "Train Loss: 1.7817, Train Acc: 0.5399\n",
            "Val Loss: 2.4215, Val Acc: 0.4315\n"
          ]
        },
        {
          "metadata": {
            "tags": null
          },
          "name": "stderr",
          "output_type": "stream",
          "text": [
            "Epoch [12/30]: 100%|██████████| 250/250 [00:49<00:00,  5.09it/s, Batch Loss=1.48, Running Loss=1.75, Accuracy=54.5]\n"
          ]
        },
        {
          "metadata": {
            "tags": null
          },
          "name": "stdout",
          "output_type": "stream",
          "text": [
            "Epoch 12/30:\n",
            "Train Loss: 1.7494, Train Acc: 0.5446\n",
            "Val Loss: 2.4193, Val Acc: 0.4215\n"
          ]
        },
        {
          "metadata": {
            "tags": null
          },
          "name": "stderr",
          "output_type": "stream",
          "text": [
            "Epoch [13/30]: 100%|██████████| 250/250 [00:51<00:00,  4.86it/s, Batch Loss=1.83, Running Loss=1.7, Accuracy=56]\n"
          ]
        },
        {
          "metadata": {
            "tags": null
          },
          "name": "stdout",
          "output_type": "stream",
          "text": [
            "Epoch 13/30:\n",
            "Train Loss: 1.7002, Train Acc: 0.5600\n",
            "Val Loss: 2.3803, Val Acc: 0.4405\n"
          ]
        },
        {
          "metadata": {
            "tags": null
          },
          "name": "stderr",
          "output_type": "stream",
          "text": [
            "Epoch [14/30]: 100%|██████████| 250/250 [00:49<00:00,  5.09it/s, Batch Loss=1.21, Running Loss=1.71, Accuracy=55.4]\n"
          ]
        },
        {
          "metadata": {
            "tags": null
          },
          "name": "stdout",
          "output_type": "stream",
          "text": [
            "Epoch 14/30:\n",
            "Train Loss: 1.7066, Train Acc: 0.5544\n",
            "Val Loss: 2.3997, Val Acc: 0.4300\n"
          ]
        },
        {
          "metadata": {
            "tags": null
          },
          "name": "stderr",
          "output_type": "stream",
          "text": [
            "Epoch [15/30]: 100%|██████████| 250/250 [00:49<00:00,  5.03it/s, Batch Loss=1.99, Running Loss=1.65, Accuracy=57]\n"
          ]
        },
        {
          "metadata": {
            "tags": null
          },
          "name": "stdout",
          "output_type": "stream",
          "text": [
            "Epoch 15/30:\n",
            "Train Loss: 1.6542, Train Acc: 0.5695\n",
            "Val Loss: 2.3679, Val Acc: 0.4530\n"
          ]
        },
        {
          "metadata": {
            "tags": null
          },
          "name": "stderr",
          "output_type": "stream",
          "text": [
            "Epoch [16/30]: 100%|██████████| 250/250 [00:51<00:00,  4.86it/s, Batch Loss=1.26, Running Loss=1.65, Accuracy=56.8]\n"
          ]
        },
        {
          "metadata": {
            "tags": null
          },
          "name": "stdout",
          "output_type": "stream",
          "text": [
            "Epoch 16/30:\n",
            "Train Loss: 1.6467, Train Acc: 0.5681\n",
            "Val Loss: 2.3298, Val Acc: 0.4450\n"
          ]
        },
        {
          "metadata": {
            "tags": null
          },
          "name": "stderr",
          "output_type": "stream",
          "text": [
            "Epoch [17/30]: 100%|██████████| 250/250 [00:49<00:00,  5.01it/s, Batch Loss=1.67, Running Loss=1.6, Accuracy=58.2]\n"
          ]
        },
        {
          "metadata": {
            "tags": null
          },
          "name": "stdout",
          "output_type": "stream",
          "text": [
            "Epoch 17/30:\n",
            "Train Loss: 1.6022, Train Acc: 0.5819\n",
            "Val Loss: 2.4476, Val Acc: 0.4340\n"
          ]
        },
        {
          "metadata": {
            "tags": null
          },
          "name": "stderr",
          "output_type": "stream",
          "text": [
            "Epoch [18/30]: 100%|██████████| 250/250 [00:49<00:00,  5.02it/s, Batch Loss=1.95, Running Loss=1.58, Accuracy=58]\n"
          ]
        },
        {
          "metadata": {
            "tags": null
          },
          "name": "stdout",
          "output_type": "stream",
          "text": [
            "Epoch 18/30:\n",
            "Train Loss: 1.5838, Train Acc: 0.5799\n",
            "Val Loss: 2.3627, Val Acc: 0.4580\n"
          ]
        },
        {
          "metadata": {
            "tags": null
          },
          "name": "stderr",
          "output_type": "stream",
          "text": [
            "Epoch [19/30]: 100%|██████████| 250/250 [00:51<00:00,  4.82it/s, Batch Loss=1.06, Running Loss=1.59, Accuracy=57.9]\n"
          ]
        },
        {
          "metadata": {
            "tags": null
          },
          "name": "stdout",
          "output_type": "stream",
          "text": [
            "Epoch 19/30:\n",
            "Train Loss: 1.5884, Train Acc: 0.5794\n",
            "Val Loss: 2.4646, Val Acc: 0.4370\n"
          ]
        },
        {
          "metadata": {
            "tags": null
          },
          "name": "stderr",
          "output_type": "stream",
          "text": [
            "Epoch [20/30]: 100%|██████████| 250/250 [00:50<00:00,  4.99it/s, Batch Loss=1.66, Running Loss=1.55, Accuracy=58.9]\n"
          ]
        },
        {
          "metadata": {
            "tags": null
          },
          "name": "stdout",
          "output_type": "stream",
          "text": [
            "Epoch 20/30:\n",
            "Train Loss: 1.5494, Train Acc: 0.5886\n",
            "Val Loss: 2.3944, Val Acc: 0.4575\n"
          ]
        },
        {
          "metadata": {
            "tags": null
          },
          "name": "stderr",
          "output_type": "stream",
          "text": [
            "Epoch [21/30]: 100%|██████████| 250/250 [00:49<00:00,  5.01it/s, Batch Loss=1.43, Running Loss=1.56, Accuracy=57.8]\n"
          ]
        },
        {
          "metadata": {
            "tags": null
          },
          "name": "stdout",
          "output_type": "stream",
          "text": [
            "Epoch 21/30:\n",
            "Train Loss: 1.5624, Train Acc: 0.5784\n",
            "Val Loss: 2.4130, Val Acc: 0.4425\n"
          ]
        },
        {
          "metadata": {
            "tags": null
          },
          "name": "stderr",
          "output_type": "stream",
          "text": [
            "Epoch [22/30]: 100%|██████████| 250/250 [00:52<00:00,  4.80it/s, Batch Loss=1.69, Running Loss=1.5, Accuracy=59.5]\n"
          ]
        },
        {
          "metadata": {
            "tags": null
          },
          "name": "stdout",
          "output_type": "stream",
          "text": [
            "Epoch 22/30:\n",
            "Train Loss: 1.5039, Train Acc: 0.5945\n",
            "Val Loss: 2.4562, Val Acc: 0.4395\n"
          ]
        },
        {
          "metadata": {
            "tags": null
          },
          "name": "stderr",
          "output_type": "stream",
          "text": [
            "Epoch [23/30]: 100%|██████████| 250/250 [00:50<00:00,  5.00it/s, Batch Loss=1.15, Running Loss=1.49, Accuracy=59.5]\n"
          ]
        },
        {
          "metadata": {
            "tags": null
          },
          "name": "stdout",
          "output_type": "stream",
          "text": [
            "Epoch 23/30:\n",
            "Train Loss: 1.4921, Train Acc: 0.5948\n",
            "Val Loss: 2.4717, Val Acc: 0.4530\n"
          ]
        },
        {
          "metadata": {
            "tags": null
          },
          "name": "stderr",
          "output_type": "stream",
          "text": [
            "Epoch [24/30]: 100%|██████████| 250/250 [00:51<00:00,  4.90it/s, Batch Loss=1.64, Running Loss=1.5, Accuracy=59.9]\n"
          ]
        },
        {
          "metadata": {
            "tags": null
          },
          "name": "stdout",
          "output_type": "stream",
          "text": [
            "Epoch 24/30:\n",
            "Train Loss: 1.5003, Train Acc: 0.5986\n",
            "Val Loss: 2.3723, Val Acc: 0.4525\n"
          ]
        },
        {
          "metadata": {
            "tags": null
          },
          "name": "stderr",
          "output_type": "stream",
          "text": [
            "Epoch [25/30]: 100%|██████████| 250/250 [00:52<00:00,  4.78it/s, Batch Loss=1.34, Running Loss=1.49, Accuracy=59.6]\n"
          ]
        },
        {
          "metadata": {
            "tags": null
          },
          "name": "stdout",
          "output_type": "stream",
          "text": [
            "Epoch 25/30:\n",
            "Train Loss: 1.4898, Train Acc: 0.5964\n",
            "Val Loss: 2.5419, Val Acc: 0.4355\n"
          ]
        },
        {
          "metadata": {
            "tags": null
          },
          "name": "stderr",
          "output_type": "stream",
          "text": [
            "Epoch [26/30]: 100%|██████████| 250/250 [00:49<00:00,  5.03it/s, Batch Loss=1.38, Running Loss=1.46, Accuracy=60.7]\n"
          ]
        },
        {
          "metadata": {
            "tags": null
          },
          "name": "stdout",
          "output_type": "stream",
          "text": [
            "Epoch 26/30:\n",
            "Train Loss: 1.4581, Train Acc: 0.6070\n",
            "Val Loss: 2.5224, Val Acc: 0.4365\n"
          ]
        },
        {
          "metadata": {
            "tags": null
          },
          "name": "stderr",
          "output_type": "stream",
          "text": [
            "Epoch [27/30]: 100%|██████████| 250/250 [00:48<00:00,  5.13it/s, Batch Loss=2.07, Running Loss=1.46, Accuracy=60.4]\n"
          ]
        },
        {
          "metadata": {
            "tags": null
          },
          "name": "stdout",
          "output_type": "stream",
          "text": [
            "Epoch 27/30:\n",
            "Train Loss: 1.4597, Train Acc: 0.6039\n",
            "Val Loss: 2.4294, Val Acc: 0.4455\n"
          ]
        },
        {
          "metadata": {
            "tags": null
          },
          "name": "stderr",
          "output_type": "stream",
          "text": [
            "Epoch [28/30]: 100%|██████████| 250/250 [00:50<00:00,  4.91it/s, Batch Loss=0.916, Running Loss=1.45, Accuracy=60.2]\n"
          ]
        },
        {
          "metadata": {
            "tags": null
          },
          "name": "stdout",
          "output_type": "stream",
          "text": [
            "Epoch 28/30:\n",
            "Train Loss: 1.4548, Train Acc: 0.6019\n",
            "Val Loss: 2.4622, Val Acc: 0.4495\n"
          ]
        },
        {
          "metadata": {
            "tags": null
          },
          "name": "stderr",
          "output_type": "stream",
          "text": [
            "Epoch [29/30]: 100%|██████████| 250/250 [00:48<00:00,  5.14it/s, Batch Loss=2.07, Running Loss=1.42, Accuracy=61.5]\n"
          ]
        },
        {
          "metadata": {
            "tags": null
          },
          "name": "stdout",
          "output_type": "stream",
          "text": [
            "Epoch 29/30:\n",
            "Train Loss: 1.4153, Train Acc: 0.6152\n",
            "Val Loss: 2.4860, Val Acc: 0.4405\n"
          ]
        },
        {
          "output_type": "stream",
          "name": "stderr",
          "text": [
            "Epoch [30/30]: 100%|██████████| 250/250 [00:49<00:00,  5.10it/s, Batch Loss=1.48, Running Loss=1.4, Accuracy=62.1]\n"
          ]
        },
        {
          "output_type": "stream",
          "name": "stdout",
          "text": [
            "Epoch 30/30:\n",
            "Train Loss: 1.4030, Train Acc: 0.6206\n",
            "Val Loss: 2.5082, Val Acc: 0.4390\n"
          ]
        }
      ]
    },
    {
      "cell_type": "code",
      "source": [
        "plot_history(train_losses, val_losses, train_accuracies, val_accuracies)\n"
      ],
      "metadata": {
        "colab": {
          "base_uri": "https://localhost:8080/",
          "height": 957
        },
        "id": "8JgsA4VA_Asy",
        "outputId": "d9e0f8d1-f879-4cec-8b8f-ec051e8e47bc"
      },
      "execution_count": 45,
      "outputs": [
        {
          "output_type": "display_data",
          "data": {
            "text/plain": [
              "<Figure size 1000x500 with 1 Axes>"
            ],
            "image/png": "[encoded data removed]"
          },
          "metadata": {}
        },
        {
          "output_type": "display_data",
          "data": {
            "text/plain": [
              "<Figure size 1000x500 with 1 Axes>"
            ],
            "image/png": "[encoded data removed]"
          },
          "metadata": {}
        }
      ]
    },
    {
      "cell_type": "code",
      "source": [
        "def plot_history(train_losses, val_losses, train_accuracies, val_accuracies):\n",
        "    epochs = range(1, len(train_losses) + 1)\n",
        "\n",
        "    plt.figure(figsize=(10, 5))\n",
        "    plt.plot(epochs, train_accuracies, label='Training Accuracy')\n",
        "    plt.plot(epochs, val_accuracies, label='Validation Accuracy')\n",
        "    plt.title(\"Accuracy\")\n",
        "    plt.xlabel('Epochs')\n",
        "    plt.ylabel('Accuracy')\n",
        "    plt.legend()\n",
        "    plt.grid()\n",
        "    plt.show()\n",
        "\n",
        "    plt.figure(figsize=(10, 5))\n",
        "    plt.plot(epochs, train_losses, label='Training Loss')\n",
        "    plt.plot(epochs, val_losses, label='Validation Loss')\n",
        "    plt.title(\"Loss\")\n",
        "    plt.xlabel('Epochs')\n",
        "    plt.ylabel('Loss')\n",
        "    plt.legend()\n",
        "    plt.grid()\n",
        "    plt.show()\n"
      ],
      "metadata": {
        "id": "RZBdwWn2u1HJ"
      },
      "execution_count": 47,
      "outputs": []
    },
    {
      "cell_type": "code",
      "source": [
        "# Unfreeze the last 10 layers in the base model\n",
        "for param in model.parameters():\n",
        "    param.requires_grad = False\n",
        "\n",
        "# Unfreeze the last layers (modify based on ResNet structure)\n",
        "for layer in list(model.children())[-2:]:  # Adjust based on which layers you want to fine-tune\n",
        "    for param in layer.parameters():\n",
        "        param.requires_grad = True\n",
        "\n",
        "# Reinitialize the optimizer for fine-tuning\n",
        "optimizer = optim.Adam(filter(lambda p: p.requires_grad, model.parameters()), lr=1e-4)\n",
        "\n",
        "# Fine-tuning loop\n",
        "fine_tune_epochs = 30\n",
        "for epoch in range(1, fine_tune_epochs + 1):  # Start from 1 for better logs\n",
        "    train_loss, train_acc = train_one_epoch(model, train_loader, criterion, optimizer, epoch, fine_tune_epochs)\n",
        "    val_loss, val_acc = evaluate(model, test_loader, criterion)\n",
        "\n",
        "    # Append metrics\n",
        "    train_losses.append(train_loss)\n",
        "    train_accuracies.append(train_acc)\n",
        "    val_losses.append(val_loss)\n",
        "    val_accuracies.append(val_acc)\n",
        "\n",
        "    print(f\"Fine-Tune Epoch {epoch}/{fine_tune_epochs}\")\n",
        "    print(f\"Train Loss: {train_loss:.4f}, Train Acc: {train_acc:.4f}\")\n",
        "    print(f\"Val Loss: {val_loss:.4f}, Val Acc: {val_acc:.4f}\")\n",
        "\n",
        "    # Save the best model checkpoint\n",
        "    if val_acc > best_acc:\n",
        "        best_acc = val_acc\n",
        "        torch.save({\n",
        "            'epoch': epoch,\n",
        "            'model_state_dict': model.state_dict(),\n",
        "            'optimizer_state_dict': optimizer.state_dict(),\n",
        "            'best_acc': best_acc\n",
        "        }, \"best_model_finetuned.pth\")\n",
        "        print(\"Saved best finetuned model!\")\n",
        "\n",
        "# Plot the training and validation history\n",
        "plot_history(train_losses, val_losses, train_accuracies, val_accuracies)\n"
      ],
      "metadata": {
        "colab": {
          "base_uri": "https://localhost:8080/",
          "height": 1000
        },
        "id": "4RemlFSDu2w-",
        "outputId": "59dcc654-5032-4746-e28d-2d6e1188c1fd"
      },
      "execution_count": 48,
      "outputs": [
        {
          "output_type": "stream",
          "name": "stderr",
          "text": [
            "Epoch [1/30]: 100%|██████████| 250/250 [00:54<00:00,  4.57it/s, Batch Loss=1.49, Running Loss=1.14, Accuracy=68.1]\n"
          ]
        },
        {
          "output_type": "stream",
          "name": "stdout",
          "text": [
            "Fine-Tune Epoch 1/30\n",
            "Train Loss: 1.1358, Train Acc: 0.6811\n",
            "Val Loss: 2.2438, Val Acc: 0.4765\n"
          ]
        },
        {
          "output_type": "stream",
          "name": "stderr",
          "text": [
            "Epoch [2/30]: 100%|██████████| 250/250 [00:49<00:00,  5.10it/s, Batch Loss=1.15, Running Loss=1.09, Accuracy=69.5]\n"
          ]
        },
        {
          "output_type": "stream",
          "name": "stdout",
          "text": [
            "Fine-Tune Epoch 2/30\n",
            "Train Loss: 1.0943, Train Acc: 0.6949\n",
            "Val Loss: 2.2856, Val Acc: 0.4750\n"
          ]
        },
        {
          "output_type": "stream",
          "name": "stderr",
          "text": [
            "Epoch [3/30]: 100%|██████████| 250/250 [00:51<00:00,  4.87it/s, Batch Loss=0.901, Running Loss=1.11, Accuracy=68.9]\n"
          ]
        },
        {
          "output_type": "stream",
          "name": "stdout",
          "text": [
            "Fine-Tune Epoch 3/30\n",
            "Train Loss: 1.1144, Train Acc: 0.6889\n",
            "Val Loss: 2.2783, Val Acc: 0.4820\n"
          ]
        },
        {
          "output_type": "stream",
          "name": "stderr",
          "text": [
            "Epoch [4/30]: 100%|██████████| 250/250 [00:48<00:00,  5.13it/s, Batch Loss=1.39, Running Loss=1.1, Accuracy=69.2]\n"
          ]
        },
        {
          "output_type": "stream",
          "name": "stdout",
          "text": [
            "Fine-Tune Epoch 4/30\n",
            "Train Loss: 1.1038, Train Acc: 0.6925\n",
            "Val Loss: 2.2623, Val Acc: 0.4720\n"
          ]
        },
        {
          "output_type": "stream",
          "name": "stderr",
          "text": [
            "Epoch [5/30]: 100%|██████████| 250/250 [00:49<00:00,  5.09it/s, Batch Loss=0.975, Running Loss=1.1, Accuracy=69.7]\n"
          ]
        },
        {
          "output_type": "stream",
          "name": "stdout",
          "text": [
            "Fine-Tune Epoch 5/30\n",
            "Train Loss: 1.0984, Train Acc: 0.6967\n",
            "Val Loss: 2.2431, Val Acc: 0.4800\n"
          ]
        },
        {
          "output_type": "stream",
          "name": "stderr",
          "text": [
            "Epoch [6/30]: 100%|██████████| 250/250 [00:50<00:00,  4.94it/s, Batch Loss=1.01, Running Loss=1.1, Accuracy=69.7]\n"
          ]
        },
        {
          "output_type": "stream",
          "name": "stdout",
          "text": [
            "Fine-Tune Epoch 6/30\n",
            "Train Loss: 1.0988, Train Acc: 0.6970\n",
            "Val Loss: 2.2444, Val Acc: 0.4795\n"
          ]
        },
        {
          "output_type": "stream",
          "name": "stderr",
          "text": [
            "Epoch [7/30]: 100%|██████████| 250/250 [00:48<00:00,  5.17it/s, Batch Loss=1.08, Running Loss=1.11, Accuracy=69.5]\n"
          ]
        },
        {
          "output_type": "stream",
          "name": "stdout",
          "text": [
            "Fine-Tune Epoch 7/30\n",
            "Train Loss: 1.1060, Train Acc: 0.6950\n",
            "Val Loss: 2.2386, Val Acc: 0.4775\n"
          ]
        },
        {
          "output_type": "stream",
          "name": "stderr",
          "text": [
            "Epoch [8/30]: 100%|██████████| 250/250 [00:49<00:00,  5.10it/s, Batch Loss=0.882, Running Loss=1.08, Accuracy=70.2]\n"
          ]
        },
        {
          "output_type": "stream",
          "name": "stdout",
          "text": [
            "Fine-Tune Epoch 8/30\n",
            "Train Loss: 1.0824, Train Acc: 0.7021\n",
            "Val Loss: 2.2532, Val Acc: 0.4765\n"
          ]
        },
        {
          "output_type": "stream",
          "name": "stderr",
          "text": [
            "Epoch [9/30]: 100%|██████████| 250/250 [00:51<00:00,  4.89it/s, Batch Loss=1.18, Running Loss=1.08, Accuracy=70.3]\n"
          ]
        },
        {
          "output_type": "stream",
          "name": "stdout",
          "text": [
            "Fine-Tune Epoch 9/30\n",
            "Train Loss: 1.0842, Train Acc: 0.7027\n",
            "Val Loss: 2.2261, Val Acc: 0.4820\n"
          ]
        },
        {
          "output_type": "stream",
          "name": "stderr",
          "text": [
            "Epoch [10/30]: 100%|██████████| 250/250 [00:50<00:00,  4.94it/s, Batch Loss=1.02, Running Loss=1.08, Accuracy=70]\n"
          ]
        },
        {
          "output_type": "stream",
          "name": "stdout",
          "text": [
            "Fine-Tune Epoch 10/30\n",
            "Train Loss: 1.0832, Train Acc: 0.6997\n",
            "Val Loss: 2.2684, Val Acc: 0.4830\n"
          ]
        },
        {
          "output_type": "stream",
          "name": "stderr",
          "text": [
            "Epoch [11/30]: 100%|██████████| 250/250 [00:50<00:00,  4.93it/s, Batch Loss=1.04, Running Loss=1.08, Accuracy=71.4]\n"
          ]
        },
        {
          "output_type": "stream",
          "name": "stdout",
          "text": [
            "Fine-Tune Epoch 11/30\n",
            "Train Loss: 1.0776, Train Acc: 0.7140\n",
            "Val Loss: 2.2379, Val Acc: 0.4730\n"
          ]
        },
        {
          "output_type": "stream",
          "name": "stderr",
          "text": [
            "Epoch [12/30]: 100%|██████████| 250/250 [00:51<00:00,  4.88it/s, Batch Loss=1.04, Running Loss=1.09, Accuracy=69.9]\n"
          ]
        },
        {
          "output_type": "stream",
          "name": "stdout",
          "text": [
            "Fine-Tune Epoch 12/30\n",
            "Train Loss: 1.0850, Train Acc: 0.6990\n",
            "Val Loss: 2.2391, Val Acc: 0.4790\n"
          ]
        },
        {
          "output_type": "stream",
          "name": "stderr",
          "text": [
            "Epoch [13/30]: 100%|██████████| 250/250 [00:49<00:00,  5.04it/s, Batch Loss=0.963, Running Loss=1.08, Accuracy=70.2]\n"
          ]
        },
        {
          "output_type": "stream",
          "name": "stdout",
          "text": [
            "Fine-Tune Epoch 13/30\n",
            "Train Loss: 1.0845, Train Acc: 0.7020\n",
            "Val Loss: 2.2404, Val Acc: 0.4720\n"
          ]
        },
        {
          "output_type": "stream",
          "name": "stderr",
          "text": [
            "Epoch [14/30]: 100%|██████████| 250/250 [00:50<00:00,  4.99it/s, Batch Loss=0.943, Running Loss=1.09, Accuracy=70.1]\n"
          ]
        },
        {
          "output_type": "stream",
          "name": "stdout",
          "text": [
            "Fine-Tune Epoch 14/30\n",
            "Train Loss: 1.0857, Train Acc: 0.7010\n",
            "Val Loss: 2.2460, Val Acc: 0.4715\n"
          ]
        },
        {
          "output_type": "stream",
          "name": "stderr",
          "text": [
            "Epoch [15/30]: 100%|██████████| 250/250 [00:50<00:00,  4.92it/s, Batch Loss=1.09, Running Loss=1.07, Accuracy=70.1]\n"
          ]
        },
        {
          "output_type": "stream",
          "name": "stdout",
          "text": [
            "Fine-Tune Epoch 15/30\n",
            "Train Loss: 1.0740, Train Acc: 0.7014\n",
            "Val Loss: 2.2480, Val Acc: 0.4770\n"
          ]
        },
        {
          "output_type": "stream",
          "name": "stderr",
          "text": [
            "Epoch [16/30]: 100%|██████████| 250/250 [00:50<00:00,  4.95it/s, Batch Loss=1.31, Running Loss=1.07, Accuracy=70]\n"
          ]
        },
        {
          "output_type": "stream",
          "name": "stdout",
          "text": [
            "Fine-Tune Epoch 16/30\n",
            "Train Loss: 1.0748, Train Acc: 0.7005\n",
            "Val Loss: 2.2361, Val Acc: 0.4740\n"
          ]
        },
        {
          "output_type": "stream",
          "name": "stderr",
          "text": [
            "Epoch [17/30]: 100%|██████████| 250/250 [00:48<00:00,  5.10it/s, Batch Loss=0.793, Running Loss=1.08, Accuracy=70]\n"
          ]
        },
        {
          "output_type": "stream",
          "name": "stdout",
          "text": [
            "Fine-Tune Epoch 17/30\n",
            "Train Loss: 1.0841, Train Acc: 0.7000\n",
            "Val Loss: 2.2474, Val Acc: 0.4745\n"
          ]
        },
        {
          "output_type": "stream",
          "name": "stderr",
          "text": [
            "Epoch [18/30]: 100%|██████████| 250/250 [00:48<00:00,  5.12it/s, Batch Loss=0.971, Running Loss=1.06, Accuracy=70.7]\n"
          ]
        },
        {
          "output_type": "stream",
          "name": "stdout",
          "text": [
            "Fine-Tune Epoch 18/30\n",
            "Train Loss: 1.0650, Train Acc: 0.7065\n",
            "Val Loss: 2.2486, Val Acc: 0.4685\n"
          ]
        },
        {
          "output_type": "stream",
          "name": "stderr",
          "text": [
            "Epoch [19/30]: 100%|██████████| 250/250 [00:51<00:00,  4.85it/s, Batch Loss=0.959, Running Loss=1.06, Accuracy=70.6]\n"
          ]
        },
        {
          "output_type": "stream",
          "name": "stdout",
          "text": [
            "Fine-Tune Epoch 19/30\n",
            "Train Loss: 1.0637, Train Acc: 0.7064\n",
            "Val Loss: 2.2371, Val Acc: 0.4740\n"
          ]
        },
        {
          "output_type": "stream",
          "name": "stderr",
          "text": [
            "Epoch [20/30]: 100%|██████████| 250/250 [00:49<00:00,  5.03it/s, Batch Loss=1.49, Running Loss=1.06, Accuracy=71]\n"
          ]
        },
        {
          "output_type": "stream",
          "name": "stdout",
          "text": [
            "Fine-Tune Epoch 20/30\n",
            "Train Loss: 1.0588, Train Acc: 0.7096\n",
            "Val Loss: 2.2274, Val Acc: 0.4800\n"
          ]
        },
        {
          "output_type": "stream",
          "name": "stderr",
          "text": [
            "Epoch [21/30]: 100%|██████████| 250/250 [00:49<00:00,  5.09it/s, Batch Loss=0.826, Running Loss=1.09, Accuracy=70.3]\n"
          ]
        },
        {
          "output_type": "stream",
          "name": "stdout",
          "text": [
            "Fine-Tune Epoch 21/30\n",
            "Train Loss: 1.0913, Train Acc: 0.7026\n",
            "Val Loss: 2.2558, Val Acc: 0.4740\n"
          ]
        },
        {
          "output_type": "stream",
          "name": "stderr",
          "text": [
            "Epoch [22/30]: 100%|██████████| 250/250 [00:51<00:00,  4.88it/s, Batch Loss=0.656, Running Loss=1.05, Accuracy=70.5]\n"
          ]
        },
        {
          "output_type": "stream",
          "name": "stdout",
          "text": [
            "Fine-Tune Epoch 22/30\n",
            "Train Loss: 1.0526, Train Acc: 0.7050\n",
            "Val Loss: 2.2339, Val Acc: 0.4765\n"
          ]
        },
        {
          "output_type": "stream",
          "name": "stderr",
          "text": [
            "Epoch [23/30]: 100%|██████████| 250/250 [00:48<00:00,  5.11it/s, Batch Loss=1.31, Running Loss=1.07, Accuracy=70.3]\n"
          ]
        },
        {
          "output_type": "stream",
          "name": "stdout",
          "text": [
            "Fine-Tune Epoch 23/30\n",
            "Train Loss: 1.0690, Train Acc: 0.7026\n",
            "Val Loss: 2.2270, Val Acc: 0.4735\n"
          ]
        },
        {
          "output_type": "stream",
          "name": "stderr",
          "text": [
            "Epoch [24/30]: 100%|██████████| 250/250 [00:48<00:00,  5.11it/s, Batch Loss=1.42, Running Loss=1.05, Accuracy=70.7]\n"
          ]
        },
        {
          "output_type": "stream",
          "name": "stdout",
          "text": [
            "Fine-Tune Epoch 24/30\n",
            "Train Loss: 1.0512, Train Acc: 0.7067\n",
            "Val Loss: 2.2342, Val Acc: 0.4730\n"
          ]
        },
        {
          "output_type": "stream",
          "name": "stderr",
          "text": [
            "Epoch [25/30]: 100%|██████████| 250/250 [00:51<00:00,  4.89it/s, Batch Loss=1.43, Running Loss=1.06, Accuracy=71.2]\n"
          ]
        },
        {
          "output_type": "stream",
          "name": "stdout",
          "text": [
            "Fine-Tune Epoch 25/30\n",
            "Train Loss: 1.0590, Train Acc: 0.7125\n",
            "Val Loss: 2.2205, Val Acc: 0.4800\n"
          ]
        },
        {
          "output_type": "stream",
          "name": "stderr",
          "text": [
            "Epoch [26/30]: 100%|██████████| 250/250 [00:48<00:00,  5.11it/s, Batch Loss=0.811, Running Loss=1.05, Accuracy=71]\n"
          ]
        },
        {
          "output_type": "stream",
          "name": "stdout",
          "text": [
            "Fine-Tune Epoch 26/30\n",
            "Train Loss: 1.0494, Train Acc: 0.7099\n",
            "Val Loss: 2.2556, Val Acc: 0.4775\n"
          ]
        },
        {
          "output_type": "stream",
          "name": "stderr",
          "text": [
            "Epoch [27/30]: 100%|██████████| 250/250 [00:48<00:00,  5.13it/s, Batch Loss=1.3, Running Loss=1.06, Accuracy=71.1]\n"
          ]
        },
        {
          "output_type": "stream",
          "name": "stdout",
          "text": [
            "Fine-Tune Epoch 27/30\n",
            "Train Loss: 1.0584, Train Acc: 0.7113\n",
            "Val Loss: 2.2498, Val Acc: 0.4750\n"
          ]
        },
        {
          "output_type": "stream",
          "name": "stderr",
          "text": [
            "Epoch [28/30]: 100%|██████████| 250/250 [00:51<00:00,  4.88it/s, Batch Loss=1, Running Loss=1.06, Accuracy=70.8]\n"
          ]
        },
        {
          "output_type": "stream",
          "name": "stdout",
          "text": [
            "Fine-Tune Epoch 28/30\n",
            "Train Loss: 1.0626, Train Acc: 0.7076\n",
            "Val Loss: 2.2314, Val Acc: 0.4790\n"
          ]
        },
        {
          "output_type": "stream",
          "name": "stderr",
          "text": [
            "Epoch [29/30]: 100%|██████████| 250/250 [00:48<00:00,  5.11it/s, Batch Loss=1.33, Running Loss=1.04, Accuracy=71]\n"
          ]
        },
        {
          "output_type": "stream",
          "name": "stdout",
          "text": [
            "Fine-Tune Epoch 29/30\n",
            "Train Loss: 1.0418, Train Acc: 0.7101\n",
            "Val Loss: 2.2185, Val Acc: 0.4770\n"
          ]
        },
        {
          "output_type": "stream",
          "name": "stderr",
          "text": [
            "Epoch [30/30]: 100%|██████████| 250/250 [00:49<00:00,  5.10it/s, Batch Loss=0.858, Running Loss=1.07, Accuracy=71.1]\n"
          ]
        },
        {
          "output_type": "stream",
          "name": "stdout",
          "text": [
            "Fine-Tune Epoch 30/30\n",
            "Train Loss: 1.0687, Train Acc: 0.7113\n",
            "Val Loss: 2.2201, Val Acc: 0.4785\n"
          ]
        },
        {
          "output_type": "display_data",
          "data": {
            "text/plain": [
              "<Figure size 1000x500 with 1 Axes>"
            ],
            "image/png": "[encoded data removed]"
          },
          "metadata": {}
        },
        {
          "output_type": "display_data",
          "data": {
            "text/plain": [
              "<Figure size 1000x500 with 1 Axes>"
            ],
            "image/png": "[encoded data removed]"
          },
          "metadata": {}
        }
      ]
    },
    {
      "cell_type": "code",
      "source": [
        "from PIL import Image\n",
        "\n",
        "def predict_image(image_path, model, classes):\n",
        "    model.eval()\n",
        "    img = Image.open(image_path).convert(\"RGB\")\n",
        "\n",
        "    transform = transforms.Compose([\n",
        "        transforms.Resize((224, 224)),\n",
        "        transforms.ToTensor(),\n",
        "        transforms.Normalize(mean=[0.485, 0.456, 0.406],\n",
        "                             std=[0.229, 0.224, 0.225])\n",
        "    ])\n",
        "\n",
        "    img_tensor = transform(img).unsqueeze(0).to(device)\n",
        "    with torch.no_grad():\n",
        "        outputs = model(img_tensor)\n",
        "        _, predicted = outputs.max(1)\n",
        "    predicted_class = classes[predicted.item()]\n",
        "    return predicted_class\n",
        "\n",
        "# Example usage:\n",
        "# model.load_state_dict(torch.load(\"best_model_finetuned.pth\"))\n",
        "# classes = train_dataset.classes\n",
        "# pred_class = predict_image(\"/path/to/test_image.jpg\", model, classes)\n",
        "# print(\"Predicted class:\", pred_class)\n"
      ],
      "metadata": {
        "id": "zv8Fio5qu37w"
      },
      "execution_count": 50,
      "outputs": []
    },
    {
      "cell_type": "code",
      "source": [
        "model.load_state_dict(torch.load(\"best_model_finetuned.pth\"))\n",
        "classes = train_dataset.classes\n",
        "pred_class = predict_image(\"/content/tiramisu.jpg\", model, classes)\n",
        "print(\"Predicted class:\", pred_class)"
      ],
      "metadata": {
        "colab": {
          "base_uri": "https://localhost:8080/"
        },
        "id": "mCEjRvTNdWdV",
        "outputId": "c0afff8e-fa57-4c00-986b-ea2dea3bded6"
      },
      "execution_count": 59,
      "outputs": [
        {
          "output_type": "stream",
          "name": "stdout",
          "text": [
            "Predicted class: tiramisu\n"
          ]
        },
        {
          "output_type": "stream",
          "name": "stderr",
          "text": [
            "<ipython-input-59-196c58e41aa6>:1: FutureWarning: You are using `torch.load` with `weights_only=False` (the current default value), which uses the default pickle module implicitly. It is possible to construct malicious pickle data which will execute arbitrary code during unpickling (See https://github.com/pytorch/pytorch/blob/main/SECURITY.md#untrusted-models for more details). In a future release, the default value for `weights_only` will be flipped to `True`. This limits the functions that could be executed during unpickling. Arbitrary objects will no longer be allowed to be loaded via this mode unless they are explicitly allowlisted by the user via `torch.serialization.add_safe_globals`. We recommend you start setting `weights_only=True` for any use case where you don't have full control of the loaded file. Please open an issue on GitHub for any issues related to this experimental feature.\n",
            "  model.load_state_dict(torch.load(\"best_model_finetuned.pth\"))\n"
          ]
        }
      ]
    }
  ],
  "metadata": {
    "colab": {
      "provenance": [],
      "gpuType": "T4"
    },
    "kernelspec": {
      "display_name": "Python 3",
      "name": "python3"
    },
    "language_info": {
      "name": "python"
    },
    "accelerator": "GPU"
  },
  "nbformat": 4,
  "nbformat_minor": 0
}